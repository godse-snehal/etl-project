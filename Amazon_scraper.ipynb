{
 "cells": [
  {
   "cell_type": "code",
   "execution_count": null,
   "metadata": {},
   "outputs": [],
   "source": [
    "from splinter import Browser\n",
    "from bs4 import BeautifulSoup\n",
    "import pandas as pd\n",
    "import re\n",
    "from splinter.exceptions import ElementDoesNotExist\n",
    "\n",
    "from config import password\n",
    "from sqlalchemy import create_engine\n",
    "\n",
    "csv_path = \"Resources/Amzon_All_Books.csv\""
   ]
  },
  {
   "cell_type": "markdown",
   "metadata": {},
   "source": [
    "# Mac Users"
   ]
  },
  {
   "cell_type": "code",
   "execution_count": null,
   "metadata": {},
   "outputs": [],
   "source": [
    "# https://splinter.readthedocs.io/en/latest/drivers/chrome.html\n",
    "!which chromedriver"
   ]
  },
  {
   "cell_type": "code",
   "execution_count": null,
   "metadata": {},
   "outputs": [],
   "source": [
    "executable_path = {'executable_path': '/usr/local/bin/chromedriver'}\n",
    "browser = Browser('chrome', **executable_path, headless=False)"
   ]
  },
  {
   "cell_type": "code",
   "execution_count": null,
   "metadata": {},
   "outputs": [],
   "source": [
    "url = 'https://www.amazon.com/s?i=stripbooks&s=relevanceexprank&Adv-Srch-Books-Submit.x=35&Adv-Srch-Books-Submit.y=8&unfiltered=1&ref=sr_adv_b'\n",
    "browser.visit(url)\n"
   ]
  },
  {
   "cell_type": "code",
   "execution_count": null,
   "metadata": {},
   "outputs": [],
   "source": [
    "html = browser.html\n",
    "soup = BeautifulSoup(html, 'html.parser')"
   ]
  },
  {
   "cell_type": "code",
   "execution_count": null,
   "metadata": {},
   "outputs": [],
   "source": [
    "results = []"
   ]
  },
  {
   "cell_type": "code",
   "execution_count": null,
   "metadata": {},
   "outputs": [],
   "source": [
    "def scrapeWebPage():\n",
    "    try:\n",
    "       \n",
    "        html = browser.html\n",
    "        soup = BeautifulSoup(html, 'html.parser')\n",
    "        parents = soup.select(\"div[data-asin]\")   \n",
    "        for parent in parents:\n",
    "            my_dict = {}\n",
    "            my_dict[\"title\"] = parent.select(\".a-color-base.a-text-normal\")[0].text\n",
    "            rating = parent.select(\".a-icon-alt\")\n",
    "            \n",
    "            if len(rating) == 0:\n",
    "                 my_dict[\"rating\"] = 0\n",
    "            else:\n",
    "                my_dict[\"rating\"] =  rating[0].text\n",
    "            author = parent.select(\".a-color-secondary .a-size-base+ .a-size-base\")\n",
    "            #.a-color-secondary .a-size-base.a-link-normal\n",
    "            #.a-color-secondary .a-size-base+ .a-size-base\n",
    "            if(len(author)== 0):\n",
    "                my_dict[\"author\"] = 0\n",
    "            else:\n",
    "                my_dict[\"author\"] =  author[0].text.strip()\n",
    "\n",
    "            review_count = parent.select(\".a-size-small .a-link-normal .a-size-base\")\n",
    "            if(len(review_count)== 0):\n",
    "                my_dict[\"review count\"] = 0\n",
    "            else:\n",
    "                my_dict[\"review count\"] =  int(review_count[0].text.replace(',',''))\n",
    "            results.append(my_dict)\n",
    "            \n",
    "            notLastPage = True\n",
    "        if(browser.find_by_css(\".a-last a\")):\n",
    "            browser.find_by_css(\".a-last a\").click()\n",
    "        else:\n",
    "            notLastPage = False\n",
    "        return notLastPage\n",
    "    except Exception as e:\n",
    "        print(f\"Exception !!!  {e}\")\n",
    "        \n",
    "notLastPage = True\n",
    "forcedExit = 0\n",
    "while notLastPage:\n",
    "    notLastPage = scrapeWebPage()\n",
    "#     forcedExit += 1\n",
    "#     if forcedExit == 2:\n",
    "#         notLastPage = False"
   ]
  },
  {
   "cell_type": "code",
   "execution_count": null,
   "metadata": {},
   "outputs": [],
   "source": [
    "print(len(results))\n",
    "print(type(results))"
   ]
  },
  {
   "cell_type": "code",
   "execution_count": null,
   "metadata": {},
   "outputs": [],
   "source": [
    "amazon_all_books_db = pd.DataFrame(results)\n",
    "amazon_all_books_db.columns = ['author', 'rating', 'no_of_reviews', 'title']\n",
    "\n",
    "# Set index to book_id\n",
    "amazon_all_books_db.index.name = 'book_id'\n",
    "\n",
    "amazon_all_books_db.head(50)"
   ]
  },
  {
   "cell_type": "markdown",
   "metadata": {},
   "source": [
    "# Writing to csv"
   ]
  },
  {
   "cell_type": "code",
   "execution_count": null,
   "metadata": {},
   "outputs": [],
   "source": [
    "amazon_all_books_db.to_csv(csv_path,index=False,header=True)"
   ]
  },
  {
   "cell_type": "markdown",
   "metadata": {},
   "source": [
    "# Data Base "
   ]
  },
  {
   "cell_type": "code",
   "execution_count": null,
   "metadata": {},
   "outputs": [],
   "source": [
    "# Create Postgres engine\n",
    "engine = create_engine('postgresql://postgres:'+ password + '@localhost:5432/Amazon_Books')\n",
    "\n"
   ]
  },
  {
   "cell_type": "code",
   "execution_count": null,
   "metadata": {},
   "outputs": [],
   "source": [
    "# Read tables\n",
    "engine.table_names()"
   ]
  },
  {
   "cell_type": "code",
   "execution_count": null,
   "metadata": {},
   "outputs": [],
   "source": [
    "# Insert data into postgres table\n",
    "amazon_all_books_db.to_sql(name='all_books', con=engine, if_exists='append', index=True)"
   ]
  },
  {
   "cell_type": "code",
   "execution_count": null,
   "metadata": {},
   "outputs": [],
   "source": []
  }
 ],
 "metadata": {
  "kernelspec": {
   "display_name": "Python 3",
   "language": "python",
   "name": "python3"
  },
  "language_info": {
   "codemirror_mode": {
    "name": "ipython",
    "version": 3
   },
   "file_extension": ".py",
   "mimetype": "text/x-python",
   "name": "python",
   "nbconvert_exporter": "python",
   "pygments_lexer": "ipython3",
   "version": "3.7.3"
  },
  "varInspector": {
   "cols": {
    "lenName": 16,
    "lenType": 16,
    "lenVar": 40
   },
   "kernels_config": {
    "python": {
     "delete_cmd_postfix": "",
     "delete_cmd_prefix": "del ",
     "library": "var_list.py",
     "varRefreshCmd": "print(var_dic_list())"
    },
    "r": {
     "delete_cmd_postfix": ") ",
     "delete_cmd_prefix": "rm(",
     "library": "var_list.r",
     "varRefreshCmd": "cat(var_dic_list()) "
    }
   },
   "types_to_exclude": [
    "module",
    "function",
    "builtin_function_or_method",
    "instance",
    "_Feature"
   ],
   "window_display": false
  }
 },
 "nbformat": 4,
 "nbformat_minor": 2
}
