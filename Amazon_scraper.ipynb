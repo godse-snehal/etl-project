{
 "cells": [
  {
   "cell_type": "code",
   "execution_count": 1,
   "metadata": {},
   "outputs": [],
   "source": [
    "from splinter import Browser\n",
    "from bs4 import BeautifulSoup\n",
    "import pandas as pd\n",
    "import re\n",
    "from splinter.exceptions import ElementDoesNotExist\n",
    "\n",
    "from config import password\n",
    "from sqlalchemy import create_engine\n",
    "import platform\n",
    "\n",
    "csv_path = \"Resources/Amzon_All_Books.csv\"\n"
   ]
  },
  {
   "cell_type": "markdown",
   "metadata": {},
   "source": [
    "# Detecting OS"
   ]
  },
  {
   "cell_type": "code",
   "execution_count": 2,
   "metadata": {},
   "outputs": [
    {
     "name": "stdout",
     "output_type": "stream",
     "text": [
      "Darwin\n"
     ]
    }
   ],
   "source": [
    "\n",
    "system = platform.system()\n",
    "print(system)\n",
    "if system == 'Darwin':\n",
    "    cd = 'chromedriver'\n",
    "elif system == 'Windows':\n",
    "    cd = 'chromedrive.exe'\n"
   ]
  },
  {
   "cell_type": "code",
   "execution_count": 33,
   "metadata": {},
   "outputs": [],
   "source": [
    "executable_path = {'executable_path': cd}\n",
    "browser = Browser('chrome', **executable_path, headless=False)"
   ]
  },
  {
   "cell_type": "code",
   "execution_count": 34,
   "metadata": {},
   "outputs": [],
   "source": [
    "url = 'https://www.amazon.com/s?i=stripbooks&s=relevanceexprank&Adv-Srch-Books-Submit.x=35&Adv-Srch-Books-Submit.y=8&unfiltered=1&ref=sr_adv_b'\n",
    "browser.visit(url)\n"
   ]
  },
  {
   "cell_type": "code",
   "execution_count": 35,
   "metadata": {},
   "outputs": [],
   "source": [
    "html = browser.html\n",
    "soup = BeautifulSoup(html, 'html.parser')"
   ]
  },
  {
   "cell_type": "code",
   "execution_count": 36,
   "metadata": {},
   "outputs": [],
   "source": [
    "results = []"
   ]
  },
  {
   "cell_type": "code",
   "execution_count": 37,
   "metadata": {},
   "outputs": [],
   "source": [
    "def scrapeWebPage():\n",
    "    try:\n",
    "       \n",
    "        html = browser.html\n",
    "        soup = BeautifulSoup(html, 'html.parser')\n",
    "        parents = soup.select(\"div[data-asin]\")   \n",
    "        for parent in parents:\n",
    "            my_dict = {}\n",
    "            my_dict[\"title\"] = parent.select(\".a-color-base.a-text-normal\")[0].text\n",
    "            rating = parent.select(\".a-icon-alt\")\n",
    "            \n",
    "            if len(rating) == 0:\n",
    "                 my_dict[\"rating\"] = 'N/A'\n",
    "            else:\n",
    "                my_dict[\"rating\"] =  rating[0].text\n",
    "            author = parent.select(\".a-color-secondary .a-size-base+ .a-size-base\")\n",
    "            #.a-color-secondary .a-size-base.a-link-normal\n",
    "            #.a-color-secondary .a-size-base+ .a-size-base\n",
    "            if(len(author)== 0):\n",
    "                my_dict[\"author\"] = 'N/A'\n",
    "            else:\n",
    "                my_dict[\"author\"] =  author[0].text.strip()\n",
    "\n",
    "            review_count = parent.select(\".a-size-small .a-link-normal .a-size-base\")\n",
    "            if(len(review_count)== 0):\n",
    "                my_dict[\"review count\"] = 0\n",
    "            else:\n",
    "                my_dict[\"review count\"] =  int(review_count[0].text.replace(',',''))\n",
    "            results.append(my_dict)\n",
    "            \n",
    "            notLastPage = True\n",
    "        if(browser.find_by_css(\".a-last a\")):\n",
    "            browser.find_by_css(\".a-last a\").click()\n",
    "        else:\n",
    "            notLastPage = False\n",
    "        return notLastPage\n",
    "    except Exception as e:\n",
    "        print(f\"Exception !!!  {e}\")\n",
    "        \n",
    "notLastPage = True\n",
    "forcedExit = 0\n",
    "while notLastPage:\n",
    "    notLastPage = scrapeWebPage()\n",
    "#     forcedExit += 1\n",
    "#     if forcedExit == 2:\n",
    "#         notLastPage = False"
   ]
  },
  {
   "cell_type": "code",
   "execution_count": 38,
   "metadata": {},
   "outputs": [
    {
     "name": "stdout",
     "output_type": "stream",
     "text": [
      "1200\n",
      "<class 'list'>\n"
     ]
    }
   ],
   "source": [
    "print(len(results))\n",
    "print(type(results))\n"
   ]
  },
  {
   "cell_type": "code",
   "execution_count": 39,
   "metadata": {},
   "outputs": [
    {
     "data": {
      "text/html": [
       "<div>\n",
       "<style scoped>\n",
       "    .dataframe tbody tr th:only-of-type {\n",
       "        vertical-align: middle;\n",
       "    }\n",
       "\n",
       "    .dataframe tbody tr th {\n",
       "        vertical-align: top;\n",
       "    }\n",
       "\n",
       "    .dataframe thead th {\n",
       "        text-align: right;\n",
       "    }\n",
       "</style>\n",
       "<table border=\"1\" class=\"dataframe\">\n",
       "  <thead>\n",
       "    <tr style=\"text-align: right;\">\n",
       "      <th></th>\n",
       "      <th>author</th>\n",
       "      <th>rating</th>\n",
       "      <th>no_of_reviews</th>\n",
       "      <th>title</th>\n",
       "    </tr>\n",
       "    <tr>\n",
       "      <th>book_id</th>\n",
       "      <th></th>\n",
       "      <th></th>\n",
       "      <th></th>\n",
       "      <th></th>\n",
       "    </tr>\n",
       "  </thead>\n",
       "  <tbody>\n",
       "    <tr>\n",
       "      <th>0</th>\n",
       "      <td>Delia Owens</td>\n",
       "      <td>4.8 out of 5 stars</td>\n",
       "      <td>19379</td>\n",
       "      <td>Where the Crawdads Sing</td>\n",
       "    </tr>\n",
       "    <tr>\n",
       "      <th>1</th>\n",
       "      <td>IglooBooks</td>\n",
       "      <td>N/A</td>\n",
       "      <td>0</td>\n",
       "      <td>Disney: Storybook Collection Advent Calendar</td>\n",
       "    </tr>\n",
       "    <tr>\n",
       "      <th>2</th>\n",
       "      <td>Daniel Silva</td>\n",
       "      <td>4.6 out of 5 stars</td>\n",
       "      <td>630</td>\n",
       "      <td>The New Girl: A Novel (Gabriel Allon Book 19)</td>\n",
       "    </tr>\n",
       "    <tr>\n",
       "      <th>3</th>\n",
       "      <td>Tara Westover</td>\n",
       "      <td>4.7 out of 5 stars</td>\n",
       "      <td>8741</td>\n",
       "      <td>Educated: A Memoir</td>\n",
       "    </tr>\n",
       "    <tr>\n",
       "      <th>4</th>\n",
       "      <td>David Baldacci</td>\n",
       "      <td>4.1 out of 5 stars</td>\n",
       "      <td>314</td>\n",
       "      <td>One Good Deed</td>\n",
       "    </tr>\n",
       "    <tr>\n",
       "      <th>5</th>\n",
       "      <td>Elin Hilderbrand</td>\n",
       "      <td>4.3 out of 5 stars</td>\n",
       "      <td>589</td>\n",
       "      <td>Summer of '69</td>\n",
       "    </tr>\n",
       "    <tr>\n",
       "      <th>6</th>\n",
       "      <td>Mariana Zapata</td>\n",
       "      <td>4.7 out of 5 stars</td>\n",
       "      <td>293</td>\n",
       "      <td>The Best Thing</td>\n",
       "    </tr>\n",
       "    <tr>\n",
       "      <th>7</th>\n",
       "      <td>Dav Pilkey</td>\n",
       "      <td>4.8 out of 5 stars</td>\n",
       "      <td>58</td>\n",
       "      <td>Dog Man: For Whom the Ball Rolls: From the Cre...</td>\n",
       "    </tr>\n",
       "    <tr>\n",
       "      <th>8</th>\n",
       "      <td>Nora Roberts</td>\n",
       "      <td>4.5 out of 5 stars</td>\n",
       "      <td>567</td>\n",
       "      <td>Under Currents: A Novel</td>\n",
       "    </tr>\n",
       "    <tr>\n",
       "      <th>9</th>\n",
       "      <td>Mo Willems</td>\n",
       "      <td>4.8 out of 5 stars</td>\n",
       "      <td>103</td>\n",
       "      <td>The Pigeon HAS to Go to School!</td>\n",
       "    </tr>\n",
       "  </tbody>\n",
       "</table>\n",
       "</div>"
      ],
      "text/plain": [
       "                   author              rating  no_of_reviews  \\\n",
       "book_id                                                        \n",
       "0             Delia Owens  4.8 out of 5 stars          19379   \n",
       "1              IglooBooks                 N/A              0   \n",
       "2            Daniel Silva  4.6 out of 5 stars            630   \n",
       "3           Tara Westover  4.7 out of 5 stars           8741   \n",
       "4          David Baldacci  4.1 out of 5 stars            314   \n",
       "5        Elin Hilderbrand  4.3 out of 5 stars            589   \n",
       "6          Mariana Zapata  4.7 out of 5 stars            293   \n",
       "7              Dav Pilkey  4.8 out of 5 stars             58   \n",
       "8            Nora Roberts  4.5 out of 5 stars            567   \n",
       "9              Mo Willems  4.8 out of 5 stars            103   \n",
       "\n",
       "                                                     title  \n",
       "book_id                                                     \n",
       "0                                  Where the Crawdads Sing  \n",
       "1             Disney: Storybook Collection Advent Calendar  \n",
       "2            The New Girl: A Novel (Gabriel Allon Book 19)  \n",
       "3                                       Educated: A Memoir  \n",
       "4                                            One Good Deed  \n",
       "5                                            Summer of '69  \n",
       "6                                           The Best Thing  \n",
       "7        Dog Man: For Whom the Ball Rolls: From the Cre...  \n",
       "8                                  Under Currents: A Novel  \n",
       "9                          The Pigeon HAS to Go to School!  "
      ]
     },
     "execution_count": 39,
     "metadata": {},
     "output_type": "execute_result"
    }
   ],
   "source": [
    "amazon_all_books_db = pd.DataFrame(results)\n",
    "amazon_all_books_db.columns = ['author', 'rating', 'no_of_reviews', 'title']\n",
    "\n",
    "# Set index to book_id\n",
    "amazon_all_books_db.index.name = 'book_id'\n",
    "\n",
    "amazon_all_books_db.head(10)"
   ]
  },
  {
   "cell_type": "markdown",
   "metadata": {},
   "source": [
    "# Writing to csv"
   ]
  },
  {
   "cell_type": "code",
   "execution_count": 40,
   "metadata": {},
   "outputs": [],
   "source": [
    "amazon_all_books_db.to_csv(csv_path,index=False,header=True)"
   ]
  },
  {
   "cell_type": "markdown",
   "metadata": {},
   "source": [
    "# Data Base "
   ]
  },
  {
   "cell_type": "code",
   "execution_count": 41,
   "metadata": {},
   "outputs": [],
   "source": [
    "# Create Postgres engine\n",
    "engine = create_engine('postgresql://postgres:'+ password + '@localhost:5432/Amazon_Books')\n",
    "\n"
   ]
  },
  {
   "cell_type": "code",
   "execution_count": 42,
   "metadata": {},
   "outputs": [
    {
     "data": {
      "text/plain": [
       "['goodreads']"
      ]
     },
     "execution_count": 42,
     "metadata": {},
     "output_type": "execute_result"
    }
   ],
   "source": [
    "# Read tables\n",
    "engine.table_names()"
   ]
  },
  {
   "cell_type": "code",
   "execution_count": 43,
   "metadata": {},
   "outputs": [],
   "source": [
    "# Insert data into postgres table\n",
    "amazon_all_books_db.to_sql(name='all_books', con=engine, if_exists='append', index=True)"
   ]
  },
  {
   "cell_type": "code",
   "execution_count": null,
   "metadata": {},
   "outputs": [],
   "source": []
  }
 ],
 "metadata": {
  "kernelspec": {
   "display_name": "Python 3",
   "language": "python",
   "name": "python3"
  },
  "language_info": {
   "codemirror_mode": {
    "name": "ipython",
    "version": 3
   },
   "file_extension": ".py",
   "mimetype": "text/x-python",
   "name": "python",
   "nbconvert_exporter": "python",
   "pygments_lexer": "ipython3",
   "version": "3.7.3"
  },
  "varInspector": {
   "cols": {
    "lenName": 16,
    "lenType": 16,
    "lenVar": 40
   },
   "kernels_config": {
    "python": {
     "delete_cmd_postfix": "",
     "delete_cmd_prefix": "del ",
     "library": "var_list.py",
     "varRefreshCmd": "print(var_dic_list())"
    },
    "r": {
     "delete_cmd_postfix": ") ",
     "delete_cmd_prefix": "rm(",
     "library": "var_list.r",
     "varRefreshCmd": "cat(var_dic_list()) "
    }
   },
   "types_to_exclude": [
    "module",
    "function",
    "builtin_function_or_method",
    "instance",
    "_Feature"
   ],
   "window_display": false
  }
 },
 "nbformat": 4,
 "nbformat_minor": 2
}
