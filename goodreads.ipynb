{
 "cells": [
  {
   "cell_type": "code",
   "execution_count": null,
   "metadata": {},
   "outputs": [],
   "source": [
    "# Dependencies\n",
    "import pandas as pd\n",
    "import csv\n",
    "import numpy as np\n",
    "\n",
    "import re\n",
    "\n",
    "from config import password\n",
    "from sqlalchemy import create_engine\n",
    "\n",
    "# CSV path\n",
    "goodreads_file = \"Resources/goodreads.csv\""
   ]
  },
  {
   "cell_type": "code",
   "execution_count": null,
   "metadata": {},
   "outputs": [],
   "source": [
    "# Read CSV\n",
    "goodreads_df = pd.read_csv(goodreads_file)\n",
    "goodreads_df.head()"
   ]
  },
  {
   "cell_type": "code",
   "execution_count": null,
   "metadata": {},
   "outputs": [],
   "source": [
    "# Remove unwanted columns\n",
    "goodreads_df.drop(columns=['isbn', 'isbn13', '# num_pages', 'extra'], inplace=True)\n",
    "\n",
    "# Rename columns\n",
    "goodreads_df.columns = ['book_id', 'title', 'authors', 'avg_rating', \n",
    "                        'language_code', 'ratings_count', 'text_reviews_count']\n",
    "\n",
    "# Set index to book_id\n",
    "goodreads_df.set_index('book_id', inplace=True)\n",
    "\n",
    "goodreads_df.head()"
   ]
  },
  {
   "cell_type": "code",
   "execution_count": null,
   "metadata": {},
   "outputs": [],
   "source": [
    "# Condition to check if all rows under avg_rating column are numeric\n",
    "condition = [bool(re.match(\"[0-9]{1}\\.[0-9]{2}\",x)) for x in goodreads_df[\"avg_rating\"].to_list()]"
   ]
  },
  {
   "cell_type": "code",
   "execution_count": null,
   "metadata": {},
   "outputs": [],
   "source": [
    "# Apply the condition to dataframe\n",
    "goodreads_transformed=goodreads_df[condition]"
   ]
  },
  {
   "cell_type": "code",
   "execution_count": null,
   "metadata": {},
   "outputs": [],
   "source": [
    "# Create Postgres engine\n",
    "engine = create_engine('postgresql://postgres:'+ password + '@localhost:5432/books_db')"
   ]
  },
  {
   "cell_type": "code",
   "execution_count": null,
   "metadata": {},
   "outputs": [],
   "source": [
    "# Read tables\n",
    "engine.table_names()"
   ]
  },
  {
   "cell_type": "code",
   "execution_count": null,
   "metadata": {},
   "outputs": [],
   "source": [
    "# Insert data into postgres table\n",
    "goodreads_transformed.to_sql(name='goodreads', con=engine, if_exists='append', index=True)"
   ]
  },
  {
   "cell_type": "code",
   "execution_count": null,
   "metadata": {},
   "outputs": [],
   "source": []
  }
 ],
 "metadata": {
  "kernelspec": {
   "display_name": "Python 3",
   "language": "python",
   "name": "python3"
  },
  "language_info": {
   "codemirror_mode": {
    "name": "ipython",
    "version": 3
   },
   "file_extension": ".py",
   "mimetype": "text/x-python",
   "name": "python",
   "nbconvert_exporter": "python",
   "pygments_lexer": "ipython3",
   "version": "3.7.3"
  }
 },
 "nbformat": 4,
 "nbformat_minor": 2
}
